{
 "cells": [
  {
   "cell_type": "code",
   "execution_count": 1,
   "id": "e1b44437-9a9f-409b-b854-0d5f10aac735",
   "metadata": {},
   "outputs": [],
   "source": [
    "#%pip install helper_utils\n"
   ]
  },
  {
   "cell_type": "code",
   "execution_count": 2,
   "id": "50568b38-2318-4b14-868d-c748f73387d5",
   "metadata": {},
   "outputs": [],
   "source": [
    "#%pip install -U langchain"
   ]
  },
  {
   "cell_type": "code",
   "execution_count": 3,
   "id": "d7053a62-a285-49fa-a21a-8c60c191a2f6",
   "metadata": {},
   "outputs": [],
   "source": [
    "#%pip install pypdf"
   ]
  },
  {
   "cell_type": "code",
   "execution_count": 4,
   "id": "e97d6433-53a1-4f1b-9e4f-ee90441734d7",
   "metadata": {},
   "outputs": [],
   "source": [
    "#%pip install sentence-transformers"
   ]
  },
  {
   "cell_type": "code",
   "execution_count": 5,
   "id": "475dd676",
   "metadata": {},
   "outputs": [],
   "source": [
    "#%pip install chromadb"
   ]
  },
  {
   "cell_type": "code",
   "execution_count": 6,
   "id": "3ca49c1a-b3c6-49c7-8f3c-f80ddb873af4",
   "metadata": {},
   "outputs": [],
   "source": [
    "import helper_utils as helpers"
   ]
  },
  {
   "cell_type": "code",
   "execution_count": 7,
   "id": "8ffd7242-f3fa-43e0-b740-f0d69b60b22d",
   "metadata": {},
   "outputs": [],
   "source": [
    "#from helper_utils import word_wrap"
   ]
  },
  {
   "cell_type": "code",
   "execution_count": 8,
   "id": "b6c1d248-6e54-4cbd-abcb-1a6e7f81355b",
   "metadata": {},
   "outputs": [
    {
     "name": "stdout",
     "output_type": "stream",
     "text": [
      "1 Dear shareholders, colleagues, customers, and partners,  \n",
      "We are living through a time of historic challenge and opportunity. As I write this, the world faces ongoing economic, social , \n",
      "and geopolitical volatility. At the same time, we have entered a new age of AI that will fundamentally transform productivity  \n",
      "for every individual, organization, and industry on earth, and help us address some of our most pressing challenges.  \n",
      "This next generation of AI will reshape every software category and every business, including our own. Forty -eight years \n",
      "after its founding, Microsoft remains a consequential company because time and time again —from PC/Server, to \n",
      "Web/Internet, to Cloud/Mob ile—we have adapted to technological paradigm shifts. Today, we are doing so once again, as \n",
      "we lead this new era.  \n",
      "Amid this transformation, our mission to empower every person and every organization on the planet to achieve \n",
      "more  remains constant. As a company, we believe we can be the democratizing force for this new generation of technology \n",
      "and the opportunity it will help unlock for every country, community, and individual, while mitigating its risks.  \n",
      "Here are just a few examples of how we are already doing this:  \n",
      "• Leading electronic health records vendor Epic is addressing some of the biggest challenges facing the \n",
      "healthcare industry today —including physician burnout —by deploying a wide range of copilot solutions built on \n",
      "Azure OpenAI Service and Dragon Ambient eX perience Copilot.  \n",
      "• Mercado Libre is reducing the time its developers spend writing code by more than 50  percent with GitHub \n",
      "Copilot, as the company works to democratize e -commerce across Latin America.  \n",
      "• Mercedes -Benz is making its in -car voice assistant more intuitive for hundreds of thousands of drivers using \n",
      "ChatGPT via the Azure OpenAI Service.  \n",
      "• Lumen Technologies is helping its employees be more productive, enabling them to focus on higher value -\n",
      "added activities, by deploying Microsoft 365 Copilot.  \n",
      "• Nonprofit The Contingent is matching foster families with children in need using Dynamics 365, Power BI, and \n",
      "Azure, with an eye on using AI to amplify its work across the US.  \n",
      "• And, Taiwan’s Ministry of Education has built an online platform to help elementary and high school students \n",
      "learn English using Azure AI.  \n",
      "To build on this progress, we remain convicted on three things: First, we will maintain our lead as the top commercial cloud \n",
      "while innovating in consumer categories, from gaming to professional social networks. Second, because we know that \n",
      "maximum enterpri se value gets created during platform shifts like this one, we will invest to accelerate our lead in AI by \n",
      "infusing this technology across every layer of the tech stack. And, finally, we will continue to drive operating leverage, \n",
      "aligning our cost structur e with our revenue growth.  \n",
      "As we make progress on these priorities, we delivered strong results in fiscal year 2023, including a record $211  billion in \n",
      "revenue and over $88  billion in operating income.  \n",
      "A NEW ERA OF AI  \n",
      "There are two breakthroughs coming together to define this new era of AI. The first is the most universal interface: natural \n",
      "language. The long arc of computing has, in many ways, been shaped by the pursuit of increasingly intuitive human -\n",
      "computer interfac es—keyboards, mice, touch screens. We believe we have now arrived at the next big step forward —\n",
      "natural language —and will quickly go beyond, to see, hear, interpret, and make sense of our intent and the world around \n",
      "us.  \n",
      "  \n",
      "The second is the emergence of a powerful new reasoning engine. For years, we’ve digitized daily life, places, and things \n",
      "and organized them into databases. But in a world rich with data, what has been most scarce is our ability to reason over \n",
      "it. This gen eration of AI helps us interact with data in powerful new ways —from completing or summarizing text, to detecting \n",
      "anomalies and recognizing images —to help us identify patterns and surface insights faster than ever.  \n",
      "Together, these two breakthroughs will unlock massive new opportunity. And, in fact, just last month we announced our \n",
      "vision for Copilot, an everyday AI companion. We are building Copilot into all our most used products and experiences and \n",
      "allowing people to summon its power as a standalone app as well. Just like you boot up an OS to access applications or \n",
      "use a browser to visit websites today, our belief is that you will invoke a Copilot to do all those activities and more: to s hop, \n",
      "to code, to analyze, to  learn, to create.\n"
     ]
    }
   ],
   "source": [
    "from pypdf import PdfReader\n",
    "\n",
    "reader = PdfReader(\"dataset/2023_Annual_Report.pdf\")\n",
    "pdf_texts = [p.extract_text().strip() for p in reader.pages]\n",
    "\n",
    "# Filter the empty strings\n",
    "pdf_texts = [text for text in pdf_texts if text]\n",
    "\n",
    "print((pdf_texts[0]))"
   ]
  },
  {
   "cell_type": "code",
   "execution_count": 9,
   "id": "a0198f72-333b-4a2b-857c-90d3c7f39e0b",
   "metadata": {},
   "outputs": [],
   "source": [
    "from langchain.text_splitter import RecursiveCharacterTextSplitter"
   ]
  },
  {
   "cell_type": "code",
   "execution_count": 10,
   "id": "a7db362b-0655-4231-a93f-e78dd502a2f9",
   "metadata": {},
   "outputs": [
    {
     "name": "stdout",
     "output_type": "stream",
     "text": [
      "\n",
      "Total chunks: 343\n"
     ]
    }
   ],
   "source": [
    "character_splitter = RecursiveCharacterTextSplitter(\n",
    "    separators=[\"\\n\\n\", \"\\n\", \". \", \" \", \"\"],\n",
    "    chunk_size=1000,\n",
    "    chunk_overlap=0\n",
    ")\n",
    "character_split_texts = character_splitter.split_text('\\n\\n'.join(pdf_texts))\n",
    "\n",
    "#print(word_wrap(character_split_texts[10]))\n",
    "print(f\"\\nTotal chunks: {len(character_split_texts)}\")"
   ]
  },
  {
   "cell_type": "code",
   "execution_count": 11,
   "id": "fe74ece8",
   "metadata": {},
   "outputs": [],
   "source": [
    "\n",
    "from langchain.text_splitter import SentenceTransformersTokenTextSplitter"
   ]
  },
  {
   "cell_type": "code",
   "execution_count": 12,
   "id": "fc48351b-08a4-4271-8c01-7c1af36882d9",
   "metadata": {},
   "outputs": [
    {
     "name": "stderr",
     "output_type": "stream",
     "text": [
      "c:\\Users\\pmohapatra\\GenAI\\.venv\\Lib\\site-packages\\tqdm\\auto.py:21: TqdmWarning: IProgress not found. Please update jupyter and ipywidgets. See https://ipywidgets.readthedocs.io/en/stable/user_install.html\n",
      "  from .autonotebook import tqdm as notebook_tqdm\n",
      "modules.json: 100%|██████████| 349/349 [00:00<00:00, 220kB/s]\n",
      "c:\\Users\\pmohapatra\\GenAI\\.venv\\Lib\\site-packages\\huggingface_hub\\file_download.py:149: UserWarning: `huggingface_hub` cache-system uses symlinks by default to efficiently store duplicated files but your machine does not support them in C:\\Users\\pmohapatra\\.cache\\huggingface\\hub\\models--sentence-transformers--all-mpnet-base-v2. Caching files will still work but in a degraded version that might require more space on your disk. This warning can be disabled by setting the `HF_HUB_DISABLE_SYMLINKS_WARNING` environment variable. For more details, see https://huggingface.co/docs/huggingface_hub/how-to-cache#limitations.\n",
      "To support symlinks on Windows, you either need to activate Developer Mode or to run Python as an administrator. In order to see activate developer mode, see this article: https://docs.microsoft.com/en-us/windows/apps/get-started/enable-your-device-for-development\n",
      "  warnings.warn(message)\n",
      "config_sentence_transformers.json: 100%|██████████| 116/116 [00:00<?, ?B/s] \n",
      "README.md: 100%|██████████| 10.6k/10.6k [00:00<00:00, 11.5MB/s]\n",
      "sentence_bert_config.json: 100%|██████████| 53.0/53.0 [00:00<?, ?B/s]\n",
      "config.json: 100%|██████████| 571/571 [00:00<?, ?B/s] \n",
      "pytorch_model.bin: 100%|██████████| 438M/438M [00:37<00:00, 11.7MB/s] \n",
      "tokenizer_config.json: 100%|██████████| 363/363 [00:00<00:00, 241kB/s]\n",
      "vocab.txt: 100%|██████████| 232k/232k [00:00<00:00, 570kB/s]\n",
      "tokenizer.json: 100%|██████████| 466k/466k [00:00<00:00, 775kB/s]\n",
      "special_tokens_map.json: 100%|██████████| 239/239 [00:00<00:00, 250kB/s]\n",
      "1_Pooling/config.json: 100%|██████████| 190/190 [00:00<00:00, 94.8kB/s]\n"
     ]
    },
    {
     "name": "stdout",
     "output_type": "stream",
     "text": [
      "\n",
      "Total chunks: 347\n"
     ]
    }
   ],
   "source": [
    "\n",
    "token_splitter = SentenceTransformersTokenTextSplitter(chunk_overlap=0, tokens_per_chunk=256)\n",
    "\n",
    "token_split_texts = []\n",
    "for text in character_split_texts:\n",
    "    token_split_texts += token_splitter.split_text(text)\n",
    "\n",
    "#print(word_wrap(token_split_texts[10]))\n",
    "print(f\"\\nTotal chunks: {len(token_split_texts)}\")"
   ]
  },
  {
   "cell_type": "code",
   "execution_count": 13,
   "id": "02700175-0bbf-42b3-83c8-2dd44a3a7356",
   "metadata": {},
   "outputs": [
    {
     "name": "stderr",
     "output_type": "stream",
     "text": [
      "modules.json: 100%|██████████| 349/349 [00:00<00:00, 222kB/s]\n",
      "c:\\Users\\pmohapatra\\GenAI\\.venv\\Lib\\site-packages\\huggingface_hub\\file_download.py:149: UserWarning: `huggingface_hub` cache-system uses symlinks by default to efficiently store duplicated files but your machine does not support them in C:\\Users\\pmohapatra\\.cache\\huggingface\\hub\\models--sentence-transformers--all-MiniLM-L6-v2. Caching files will still work but in a degraded version that might require more space on your disk. This warning can be disabled by setting the `HF_HUB_DISABLE_SYMLINKS_WARNING` environment variable. For more details, see https://huggingface.co/docs/huggingface_hub/how-to-cache#limitations.\n",
      "To support symlinks on Windows, you either need to activate Developer Mode or to run Python as an administrator. In order to see activate developer mode, see this article: https://docs.microsoft.com/en-us/windows/apps/get-started/enable-your-device-for-development\n",
      "  warnings.warn(message)\n",
      "config_sentence_transformers.json: 100%|██████████| 116/116 [00:00<00:00, 117kB/s]\n",
      "README.md: 100%|██████████| 10.7k/10.7k [00:00<00:00, 5.35MB/s]\n",
      "sentence_bert_config.json: 100%|██████████| 53.0/53.0 [00:00<00:00, 103kB/s]\n",
      "config.json: 100%|██████████| 612/612 [00:00<?, ?B/s] \n",
      "pytorch_model.bin: 100%|██████████| 90.9M/90.9M [00:07<00:00, 11.8MB/s]\n",
      "tokenizer_config.json: 100%|██████████| 350/350 [00:00<00:00, 350kB/s]\n",
      "vocab.txt: 100%|██████████| 232k/232k [00:00<00:00, 567kB/s]\n",
      "tokenizer.json: 100%|██████████| 466k/466k [00:00<00:00, 2.15MB/s]\n",
      "special_tokens_map.json: 100%|██████████| 112/112 [00:00<00:00, 122kB/s]\n",
      "1_Pooling/config.json: 100%|██████████| 190/190 [00:00<?, ?B/s] \n"
     ]
    },
    {
     "name": "stdout",
     "output_type": "stream",
     "text": [
      "[[-0.10381157696247101, 0.036902204155921936, -0.03827807679772377, -0.04762120917439461, -0.02947862818837166, 0.013412977568805218, 0.008322598412632942, 0.06288386881351471, 0.029157262295484543, -0.0079110786318779, -0.03119717724621296, 0.04124707728624344, 0.044842351227998734, 0.031169027090072632, 0.037144389003515244, -0.012769141234457493, 0.0025719120167195797, -0.0546116977930069, -0.016872821375727654, 0.022510813549160957, -0.0520002506673336, 0.04188738763332367, -0.026577556505799294, 0.0189029723405838, -0.01753348484635353, 0.04174415022134781, -0.07124286890029907, -0.11644632369279861, 0.00984302256256342, -0.03457752615213394, 0.034627851098775864, -0.018639294430613518, 0.06909224390983582, 0.0816601812839508, 0.006685691419988871, -0.03778970614075661, 0.03195148706436157, 0.06072944030165672, -0.021703965961933136, -0.0837971419095993, -0.006467427127063274, -0.07819971442222595, -0.0680152177810669, 0.032416049391031265, 0.11298935860395432, -0.016961276531219482, -0.040538400411605835, -0.004510079510509968, 0.02460496313869953, 0.15188142657279968, -0.1409437209367752, -0.08415450900793076, 0.07276317477226257, 0.01636936515569687, -0.05244538560509682, 0.0905681625008583, 0.09728629142045975, -0.006782833952456713, -0.055759988725185394, -0.04911022260785103, -0.004016292281448841, -0.052772555500268936, 0.04189383238554001, 0.047134507447481155, -0.018250808119773865, 0.08054893463850021, -0.003929789178073406, 0.06819949299097061, -0.031656183302402496, -0.06301749497652054, -0.10240548104047775, 0.010822483338415623, 0.01834448054432869, 0.06417766958475113, -0.009911608882248402, -0.009072743356227875, -0.05124632269144058, -0.03899186849594116, 0.03176167979836464, 0.003957037813961506, 0.006509644445031881, 0.01759873516857624, -0.034580130130052567, 0.11297666281461716, -0.07035869359970093, 0.021851111203432083, 0.014599284157156944, -0.044644735753536224, 0.004198076203465462, -0.013917071744799614, 0.01368856430053711, -0.03068612515926361, 0.051065247505903244, -0.07553458958864212, -0.05223942548036575, -0.03209158033132553, -0.025342406705021858, -0.0902538076043129, 0.04275088384747505, 0.018500331789255142, -0.029647763818502426, 0.0729169026017189, 0.07162627577781677, -0.07084807753562927, -0.04308629781007767, -0.06591255217790604, 0.03250023350119591, -0.05837312713265419, 0.03223349153995514, 0.002358329249545932, -0.0044579049572348595, -0.013015995733439922, -0.034963835030794144, -0.0800626203417778, 0.04620003327727318, 0.059764496982097626, -0.1075318306684494, 0.09025803208351135, 0.10271792858839035, 0.05781906098127365, 0.03848126903176308, 0.056338485330343246, -0.05348992347717285, -0.002373329596593976, 0.04420248791575432, 0.05488787963986397, -0.00406127842143178, 1.1456198047446122e-33, -0.01690620929002762, 0.06126704066991806, 0.033781468868255615, 0.058522529900074005, 0.08272051811218262, -0.05268631875514984, -0.009355301037430763, -0.00619511678814888, -0.05184006690979004, -0.04950771480798721, -0.09340038150548935, 0.11183162778615952, -0.009821432642638683, 0.052144862711429596, 0.022435765713453293, -0.007128214463591576, -0.09650721400976181, 0.10184387117624283, -0.010537141934037209, 0.0039028956089168787, 0.021885491907596588, -0.08900128304958344, 0.055934399366378784, 0.04258570447564125, 0.02423718199133873, 0.06206531822681427, 0.04975971207022667, 0.05136413872241974, 0.14249075949192047, -0.018777253106236458, -0.04305768758058548, -0.03246809542179108, 0.025126632302999496, -0.025473468005657196, 0.004947574809193611, 0.015539799816906452, -0.05694107711315155, -0.06419000029563904, 0.06294562667608261, 0.06743061542510986, -0.08401600271463394, 0.015162716619670391, 0.010710954666137695, -0.05111624300479889, -0.007789194118231535, 0.046047549694776535, 0.019572574645280838, 0.03299489989876747, 0.04052988812327385, -0.012737801298499107, -0.028133971616625786, 0.022582992911338806, -0.004328923299908638, -0.009165219031274319, -0.03418377414345741, -0.08230213820934296, -0.01447486225515604, -0.03326120227575302, 0.05126044526696205, -0.009513234719634056, 0.03620436415076256, 0.012269938364624977, -0.006668400950729847, 0.054605573415756226, -0.05647870898246765, 0.010983427986502647, 0.11446944624185562, -0.03156905993819237, 0.06987737864255905, 0.019870977848768234, -0.006518081296235323, 0.01011096965521574, -0.032248735427856445, -0.0738353505730629, 0.053044091910123825, -0.019085492938756943, 0.019826160743832588, -0.07443829625844955, -0.018950654193758965, -0.0331927165389061, -0.04834822192788124, -0.005962162744253874, 0.005385769996792078, 0.035483263432979584, 0.05490351840853691, -0.0005315201124176383, 0.010423930361866951, 0.0017859829822555184, -0.06407646089792252, 0.004261170979589224, -0.043118201196193695, 0.04166394844651222, -0.02907509356737137, 0.09459201991558075, 0.004303338471800089, -2.1254405394095563e-33, 0.010630856268107891, -0.06797811388969421, -0.025659965351223946, 0.05982044339179993, 0.0008699226891621947, -0.0017883982509374619, -0.007805150467902422, 0.027014821767807007, 0.03681423142552376, 0.04353753477334976, -0.008428826928138733, -0.012112936936318874, -0.02223578840494156, -0.0008585476316511631, 0.015392524190247059, 0.03242117911577225, -0.01000991091132164, -0.05445308983325958, -0.03805959224700928, 0.0354609377682209, 0.04742623120546341, 0.0517847053706646, -0.07082425057888031, 0.05470350384712219, -0.004198639187961817, 0.030252480879426003, -0.05074106901884079, -0.013310001231729984, 0.03233912214636803, -0.07201701402664185, -0.09135009348392487, -0.01807810738682747, -0.03809237480163574, -0.0193807240575552, -0.0018942357273772359, 0.008948447182774544, 0.00545439962297678, -0.005236202385276556, 0.00833629909902811, 0.026667769998311996, 0.05925820767879486, -0.06892754882574081, -0.07184501737356186, -0.018137119710445404, -0.01991363801062107, -0.003937347326427698, -0.06699688732624054, 0.01274755597114563, 0.03667938709259033, -0.001119821215979755, -0.026076288893818855, 0.004704918712377548, -0.05139423906803131, -0.07768061757087708, -0.07556342333555222, 0.00865196529775858, 0.009101204574108124, -0.061296820640563965, -0.1174635961651802, 0.04011581838130951, -0.08597972244024277, 0.01618822105228901, 0.02575855888426304, 0.034205883741378784, -0.013318019919097424, -0.027050547301769257, 0.08733689785003662, -0.017590345814824104, -0.16464973986148834, -0.013350351713597775, 0.03168943524360657, -0.0016794413095340133, -0.02356300689280033, -0.04113385081291199, -0.03696895018219948, 0.003915952518582344, -0.051449116319417953, -0.07628470659255981, -0.07517131417989731, -0.04988347366452217, 0.008850844576954842, -0.011591529473662376, 0.09906726330518723, 0.030878912657499313, -0.04346814751625061, 0.016169657930731773, 0.018508782610297203, -0.01514136791229248, -0.02943294122815132, 0.07965341210365295, -0.11177573353052139, 0.018889224156737328, -0.03601009026169777, 0.06592559814453125, -0.07798348367214203, -4.895553473716063e-08, -0.004387001506984234, 0.007857357151806355, 0.05078152194619179, 0.026404164731502533, 0.015016747638583183, -0.03577886149287224, 0.017990203574299812, 0.16062821447849274, -0.0004992354661226273, 0.00382756139151752, 0.006203484255820513, -0.10168849676847458, -0.04219517856836319, 0.048157788813114166, 0.09495045244693756, 0.08904004842042923, -0.012866753153502941, 0.019347572699189186, -0.03450791537761688, -0.005328308325260878, 0.058130405843257904, -0.014814049936830997, -0.004121360369026661, -0.005259605124592781, 0.06272381544113159, -0.04891692101955414, -0.03279171511530876, 0.06400234252214432, 0.02672831527888775, -0.020351765677332878, 0.020073343068361282, 0.003040512092411518, 0.08373382687568665, 0.015939457342028618, 0.01102316752076149, -0.04052981361746788, 0.058507487177848816, 0.011091203428804874, -0.024974286556243896, -0.04232637584209442, -0.020128708332777023, 0.04445112869143486, -0.047685232013463974, -0.01382711436599493, -0.00149007816798985, -0.06712585687637329, -0.07645902782678604, -0.08748296648263931, 0.04692891985177994, -0.042463161051273346, -0.04329150170087814, -0.033904366195201874, 0.11051405221223831, 0.08211419731378555, 0.028844816610217094, 0.0510600209236145, 0.07399877160787582, -0.03101540356874466, 0.05761519819498062, 0.061182986944913864, 0.09403397887945175, -0.06254415214061737, 0.024012982845306396, 0.018148623406887054]]\n"
     ]
    }
   ],
   "source": [
    "import chromadb\n",
    "from chromadb.utils.embedding_functions import SentenceTransformerEmbeddingFunction\n",
    "\n",
    "embedding_function = SentenceTransformerEmbeddingFunction()\n",
    "print(embedding_function([token_split_texts[10]]))"
   ]
  },
  {
   "cell_type": "code",
   "execution_count": 14,
   "id": "f3c5b496-e0d6-48c7-8214-094d97cbc0e1",
   "metadata": {},
   "outputs": [
    {
     "data": {
      "text/plain": [
       "347"
      ]
     },
     "execution_count": 14,
     "metadata": {},
     "output_type": "execute_result"
    }
   ],
   "source": [
    "chroma_client = chromadb.Client()\n",
    "chroma_collection = chroma_client.create_collection(\"microsoft_annual_report\", embedding_function=embedding_function)\n",
    "\n",
    "ids = [str(i) for i in range(len(token_split_texts))]\n",
    "\n",
    "chroma_collection.add(ids=ids, documents=token_split_texts)\n",
    "chroma_collection.count()"
   ]
  },
  {
   "cell_type": "code",
   "execution_count": 15,
   "id": "5f3936c1-8f36-4495-9d44-28d6689bbbff",
   "metadata": {},
   "outputs": [
    {
     "name": "stdout",
     "output_type": "stream",
     "text": [
      "include legal, including settlements and fines, information technology, human resources, finance, excise taxes, field selling, share d facilities services, customer service and support, and severance incurred as part of a corporate program. each allocation is measured differently based on the specific facts and circumstances of the costs being allocated and is generall y based on relativ e gross margin or relative headcount. segment revenue and operating income were as follows during the periods presented : ( in millions ) year ended june 30, 2023 2022 2021 revenue productivity and business processes $ 69, 274 $ 63, 364 $ 53, 915 intelligent cloud 87, 907 74, 965 59, 728 more personal computing 54, 734 59, 941 54, 445 total $ 211, 915 $ 198, 270 $ 168, 088 operating income productivity and business processes $ 34, 189 $ 29, 690 $ 24, 351\n",
      "\n",
      "\n",
      "intelligent cloud 37, 884 33, 203 26, 471 more personal computing 16, 450 20, 490 19, 094 total $ 88, 523 $ 83, 383 $ 69, 916 no sales to an individual customer or country other than the united states accounted for more than 10 % of revenue for fiscal years 2023, 2022, or 2021. revenue, classified by the major geographic areas in which our customers were located, was as follows : ( in millions ) year ended june 30, 2023 2022 2021 united states ( a ) $ 106, 744 $ 100, 218 $ 83, 953 other countries 105, 171 98, 052 84, 135 total $ 211, 915 $ 198, 270 $ 168, 088 ( a ) includes billings to oems and certain multinational organizations because of the nature of these businesses and the impracticability of determining the geographic source of the revenue. revenue, classified by significant product and service offerings, was as follows : ( in millions )\n",
      "\n",
      "\n",
      "68 note 13 — unearned revenue unearned revenue by segment was as follows : ( in millions ) june 30, 2023 2022 productivity and business processes $ 27, 572 $ 24, 558 intelligent cloud 21, 563 19, 371 more personal computing 4, 678 4, 479 total $ 53, 813 $ 48, 408 changes in unearned revenue were as follows : ( in millions ) year ended june 30, 2023 balance, beginning of period $ 48, 408 deferral of revenue 123, 935 recognition of unearned revenue ( 118, 530 ) balance, end of period $ 53, 813 revenue allocated to remaining performance obligations, which includes unearned revenue and amounts that will be invoiced and recognized as revenue in future periods, was $ 229 billion as of june 30, 2023, of which $ 224 billion is related to the commercial portion of revenue. we expect to recognize approximately 45 % of this revenue over the next 12 months and the remainder thereafter.\n",
      "\n",
      "\n",
      "sales and marketing expenses increased $ 934 million or 4 % driven by 3 points of growth from the nuance and xandr acquisitions and investments in commercial sales, offset in part by a decline in windows advertising. sales and marketing included a favorable foreign currency impact of 2 %. general and administrative ( in millions, except percentages ) 2023 2022 percentage change general and administrative $ 7, 575 $ 5, 900 28 % as a percent of revenue 4 % 3 % 1ppt general and administrative expenses include payroll, employee benefits, stock - based compensation expense, employee severance expense incurred as part of a corporate program, and other headcount - related expenses associated with finance, legal, facilities, c ertain human resources and other administrative personnel, certain taxes, and legal and other administrative fees.\n",
      "\n",
      "\n",
      "43 financial statements and supplementary data income statements ( in millions, except per share amounts ) year ended june 30, 2023 2022 2021 revenue : product $ 64, 699 $ 72, 732 $ 71, 074 service and other 147, 216 125, 538 97, 014 total revenue 211, 915 198, 270 168, 088 cost of revenue : product 17, 804 19, 064 18, 219 service and other 48, 059 43, 586 34, 013 total cost of revenue 65, 863 62, 650 52, 232 gross margin 146, 052 135, 620 115, 856 research and development 27, 195 24, 512 20, 716 sales and marketing 22, 759 21, 825 20, 117 general and administrative 7, 575 5, 900 5, 107 operating income 88, 523 83, 383 69, 916 other income, net 788 333 1, 186 income before income taxes 89, 311 83, 716 71, 102 provision for income taxes 16, 950 10, 978 9, 831\n",
      "\n",
      "\n"
     ]
    }
   ],
   "source": [
    "query = \"What was the total revenue?\"\n",
    "\n",
    "results = chroma_collection.query(query_texts=[query], n_results=5)\n",
    "retrieved_documents = results['documents'][0]\n",
    "\n",
    "for document in retrieved_documents:\n",
    "    print((document))\n",
    "    print('\\n')"
   ]
  },
  {
   "cell_type": "code",
   "execution_count": 16,
   "id": "89c86ac9-aeb4-45d7-9ec8-cbceeba3e9a6",
   "metadata": {},
   "outputs": [],
   "source": [
    "import os\n",
    "import openai\n",
    "from openai import OpenAI\n",
    "\n",
    "from dotenv import load_dotenv, find_dotenv\n",
    "_ = load_dotenv(find_dotenv()) # read local .env file\n",
    "openai.api_key = os.environ['OPENAI_API_KEY']\n",
    "\n",
    "openai_client = OpenAI()"
   ]
  },
  {
   "cell_type": "code",
   "execution_count": 17,
   "id": "0e4108ad-f597-474f-b5ca-19560e61f33c",
   "metadata": {},
   "outputs": [],
   "source": [
    "def rag(query, retrieved_documents, model=\"gpt-3.5-turbo\"):\n",
    "    information = \"\\n\\n\".join(retrieved_documents)\n",
    "\n",
    "    messages = [\n",
    "        {\n",
    "            \"role\": \"system\",\n",
    "            \"content\": \"You are a helpful expert financial research assistant. Your users are asking questions about information contained in an annual report.\"\n",
    "            \"You will be shown the user's question, and the relevant information from the annual report. Answer the user's question using only this information.\"\n",
    "        },\n",
    "        {\"role\": \"user\", \"content\": f\"Question: {query}. \\n Information: {information}\"}\n",
    "    ]\n",
    "    \n",
    "    response = openai_client.chat.completions.create(\n",
    "        model=model,\n",
    "        messages=messages,\n",
    "    )\n",
    "    content = response.choices[0].message.content\n",
    "    return content"
   ]
  },
  {
   "cell_type": "code",
   "execution_count": 18,
   "id": "70a21004-a75d-4e4a-8d37-2ca4b7f0f60d",
   "metadata": {},
   "outputs": [
    {
     "name": "stdout",
     "output_type": "stream",
     "text": [
      "The total revenue for the year ended June 30, 2023, as stated in the annual report, was $211,915 million.\n"
     ]
    }
   ],
   "source": [
    "output = rag(query=query, retrieved_documents=retrieved_documents)\n",
    "\n",
    "print((output))"
   ]
  }
 ],
 "metadata": {
  "kernelspec": {
   "display_name": "Python 3 (ipykernel)",
   "language": "python",
   "name": "python3"
  },
  "language_info": {
   "codemirror_mode": {
    "name": "ipython",
    "version": 3
   },
   "file_extension": ".py",
   "mimetype": "text/x-python",
   "name": "python",
   "nbconvert_exporter": "python",
   "pygments_lexer": "ipython3",
   "version": "3.11.8"
  }
 },
 "nbformat": 4,
 "nbformat_minor": 5
}
